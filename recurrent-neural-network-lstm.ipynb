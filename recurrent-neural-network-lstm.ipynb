{
 "cells": [
  {
   "cell_type": "markdown",
   "id": "589edf3c",
   "metadata": {
    "papermill": {
     "duration": 0.069239,
     "end_time": "2022-04-04T20:10:34.881656",
     "exception": false,
     "start_time": "2022-04-04T20:10:34.812417",
     "status": "completed"
    },
    "tags": []
   },
   "source": [
    "### Import Libraries"
   ]
  },
  {
   "cell_type": "code",
   "execution_count": 1,
   "id": "43c2bf76",
   "metadata": {
    "execution": {
     "iopub.execute_input": "2022-04-04T20:10:35.024977Z",
     "iopub.status.busy": "2022-04-04T20:10:35.022954Z",
     "iopub.status.idle": "2022-04-04T20:10:41.909425Z",
     "shell.execute_reply": "2022-04-04T20:10:41.908407Z",
     "shell.execute_reply.started": "2022-04-01T18:51:02.63348Z"
    },
    "papermill": {
     "duration": 6.963392,
     "end_time": "2022-04-04T20:10:41.909653",
     "exception": false,
     "start_time": "2022-04-04T20:10:34.946261",
     "status": "completed"
    },
    "tags": []
   },
   "outputs": [],
   "source": [
    "import numpy as np \n",
    "import pandas as pd \n",
    "import tensorflow as tf\n",
    "\n",
    "from tensorflow.keras.models import Sequential\n",
    "from tensorflow.keras.layers import Activation, Dense, Dropout, LSTM\n",
    "from sklearn.metrics import mean_absolute_error\n",
    "from tensorflow.keras import layers\n",
    "\n",
    "from datetime import datetime\n",
    "import matplotlib.pyplot as plt\n",
    "\n",
    "import warnings\n",
    "warnings.filterwarnings('ignore', category=DeprecationWarning)\n",
    "warnings.filterwarnings('ignore', category=FutureWarning)"
   ]
  },
  {
   "cell_type": "markdown",
   "id": "5071b01c",
   "metadata": {
    "papermill": {
     "duration": 0.036857,
     "end_time": "2022-04-04T20:10:41.984666",
     "exception": false,
     "start_time": "2022-04-04T20:10:41.947809",
     "status": "completed"
    },
    "tags": []
   },
   "source": [
    "### Import data"
   ]
  },
  {
   "cell_type": "code",
   "execution_count": 2,
   "id": "befd2b37",
   "metadata": {
    "execution": {
     "iopub.execute_input": "2022-04-04T20:10:42.067755Z",
     "iopub.status.busy": "2022-04-04T20:10:42.067068Z",
     "iopub.status.idle": "2022-04-04T20:11:39.391280Z",
     "shell.execute_reply": "2022-04-04T20:11:39.390515Z",
     "shell.execute_reply.started": "2022-04-01T18:51:02.645287Z"
    },
    "papermill": {
     "duration": 57.3688,
     "end_time": "2022-04-04T20:11:39.391458",
     "exception": false,
     "start_time": "2022-04-04T20:10:42.022658",
     "status": "completed"
    },
    "tags": []
   },
   "outputs": [],
   "source": [
    "crypto_df = pd.read_csv(\"../input/g-research-crypto-forecasting/train.csv\") "
   ]
  },
  {
   "cell_type": "code",
   "execution_count": 3,
   "id": "4b96b9d0",
   "metadata": {
    "execution": {
     "iopub.execute_input": "2022-04-04T20:11:39.477528Z",
     "iopub.status.busy": "2022-04-04T20:11:39.476809Z",
     "iopub.status.idle": "2022-04-04T20:11:39.499898Z",
     "shell.execute_reply": "2022-04-04T20:11:39.500453Z",
     "shell.execute_reply.started": "2022-04-01T18:51:34.827317Z"
    },
    "papermill": {
     "duration": 0.069264,
     "end_time": "2022-04-04T20:11:39.500595",
     "exception": false,
     "start_time": "2022-04-04T20:11:39.431331",
     "status": "completed"
    },
    "tags": []
   },
   "outputs": [
    {
     "data": {
      "text/html": [
       "<div>\n",
       "<style scoped>\n",
       "    .dataframe tbody tr th:only-of-type {\n",
       "        vertical-align: middle;\n",
       "    }\n",
       "\n",
       "    .dataframe tbody tr th {\n",
       "        vertical-align: top;\n",
       "    }\n",
       "\n",
       "    .dataframe thead th {\n",
       "        text-align: right;\n",
       "    }\n",
       "</style>\n",
       "<table border=\"1\" class=\"dataframe\">\n",
       "  <thead>\n",
       "    <tr style=\"text-align: right;\">\n",
       "      <th></th>\n",
       "      <th>timestamp</th>\n",
       "      <th>Asset_ID</th>\n",
       "      <th>Count</th>\n",
       "      <th>Open</th>\n",
       "      <th>High</th>\n",
       "      <th>Low</th>\n",
       "      <th>Close</th>\n",
       "      <th>Volume</th>\n",
       "      <th>VWAP</th>\n",
       "      <th>Target</th>\n",
       "    </tr>\n",
       "  </thead>\n",
       "  <tbody>\n",
       "    <tr>\n",
       "      <th>0</th>\n",
       "      <td>1514764860</td>\n",
       "      <td>2</td>\n",
       "      <td>40.0</td>\n",
       "      <td>2376.5800</td>\n",
       "      <td>2399.5000</td>\n",
       "      <td>2357.1400</td>\n",
       "      <td>2374.5900</td>\n",
       "      <td>19.233005</td>\n",
       "      <td>2373.116392</td>\n",
       "      <td>-0.004218</td>\n",
       "    </tr>\n",
       "    <tr>\n",
       "      <th>1</th>\n",
       "      <td>1514764860</td>\n",
       "      <td>0</td>\n",
       "      <td>5.0</td>\n",
       "      <td>8.5300</td>\n",
       "      <td>8.5300</td>\n",
       "      <td>8.5300</td>\n",
       "      <td>8.5300</td>\n",
       "      <td>78.380000</td>\n",
       "      <td>8.530000</td>\n",
       "      <td>-0.014399</td>\n",
       "    </tr>\n",
       "    <tr>\n",
       "      <th>2</th>\n",
       "      <td>1514764860</td>\n",
       "      <td>1</td>\n",
       "      <td>229.0</td>\n",
       "      <td>13835.1940</td>\n",
       "      <td>14013.8000</td>\n",
       "      <td>13666.1100</td>\n",
       "      <td>13850.1760</td>\n",
       "      <td>31.550062</td>\n",
       "      <td>13827.062093</td>\n",
       "      <td>-0.014643</td>\n",
       "    </tr>\n",
       "    <tr>\n",
       "      <th>3</th>\n",
       "      <td>1514764860</td>\n",
       "      <td>5</td>\n",
       "      <td>32.0</td>\n",
       "      <td>7.6596</td>\n",
       "      <td>7.6596</td>\n",
       "      <td>7.6567</td>\n",
       "      <td>7.6576</td>\n",
       "      <td>6626.713370</td>\n",
       "      <td>7.657713</td>\n",
       "      <td>-0.013922</td>\n",
       "    </tr>\n",
       "    <tr>\n",
       "      <th>4</th>\n",
       "      <td>1514764860</td>\n",
       "      <td>7</td>\n",
       "      <td>5.0</td>\n",
       "      <td>25.9200</td>\n",
       "      <td>25.9200</td>\n",
       "      <td>25.8740</td>\n",
       "      <td>25.8770</td>\n",
       "      <td>121.087310</td>\n",
       "      <td>25.891363</td>\n",
       "      <td>-0.008264</td>\n",
       "    </tr>\n",
       "  </tbody>\n",
       "</table>\n",
       "</div>"
      ],
      "text/plain": [
       "    timestamp  Asset_ID  Count        Open        High         Low  \\\n",
       "0  1514764860         2   40.0   2376.5800   2399.5000   2357.1400   \n",
       "1  1514764860         0    5.0      8.5300      8.5300      8.5300   \n",
       "2  1514764860         1  229.0  13835.1940  14013.8000  13666.1100   \n",
       "3  1514764860         5   32.0      7.6596      7.6596      7.6567   \n",
       "4  1514764860         7    5.0     25.9200     25.9200     25.8740   \n",
       "\n",
       "        Close       Volume          VWAP    Target  \n",
       "0   2374.5900    19.233005   2373.116392 -0.004218  \n",
       "1      8.5300    78.380000      8.530000 -0.014399  \n",
       "2  13850.1760    31.550062  13827.062093 -0.014643  \n",
       "3      7.6576  6626.713370      7.657713 -0.013922  \n",
       "4     25.8770   121.087310     25.891363 -0.008264  "
      ]
     },
     "execution_count": 3,
     "metadata": {},
     "output_type": "execute_result"
    }
   ],
   "source": [
    "crypto_df.head()"
   ]
  },
  {
   "cell_type": "code",
   "execution_count": 4,
   "id": "5ee02209",
   "metadata": {
    "execution": {
     "iopub.execute_input": "2022-04-04T20:11:39.581364Z",
     "iopub.status.busy": "2022-04-04T20:11:39.580588Z",
     "iopub.status.idle": "2022-04-04T20:11:39.590179Z",
     "shell.execute_reply": "2022-04-04T20:11:39.590779Z",
     "shell.execute_reply.started": "2022-04-01T18:51:34.847178Z"
    },
    "papermill": {
     "duration": 0.05255,
     "end_time": "2022-04-04T20:11:39.591014",
     "exception": false,
     "start_time": "2022-04-04T20:11:39.538464",
     "status": "completed"
    },
    "tags": []
   },
   "outputs": [],
   "source": [
    "asset_details = pd.read_csv('../input/g-research-crypto-forecasting/asset_details.csv')"
   ]
  },
  {
   "cell_type": "code",
   "execution_count": 5,
   "id": "a44e7309",
   "metadata": {
    "execution": {
     "iopub.execute_input": "2022-04-04T20:11:39.681185Z",
     "iopub.status.busy": "2022-04-04T20:11:39.678834Z",
     "iopub.status.idle": "2022-04-04T20:11:39.686426Z",
     "shell.execute_reply": "2022-04-04T20:11:39.685767Z",
     "shell.execute_reply.started": "2022-04-01T18:51:34.860013Z"
    },
    "papermill": {
     "duration": 0.058146,
     "end_time": "2022-04-04T20:11:39.686585",
     "exception": false,
     "start_time": "2022-04-04T20:11:39.628439",
     "status": "completed"
    },
    "tags": []
   },
   "outputs": [
    {
     "data": {
      "text/html": [
       "<div>\n",
       "<style scoped>\n",
       "    .dataframe tbody tr th:only-of-type {\n",
       "        vertical-align: middle;\n",
       "    }\n",
       "\n",
       "    .dataframe tbody tr th {\n",
       "        vertical-align: top;\n",
       "    }\n",
       "\n",
       "    .dataframe thead th {\n",
       "        text-align: right;\n",
       "    }\n",
       "</style>\n",
       "<table border=\"1\" class=\"dataframe\">\n",
       "  <thead>\n",
       "    <tr style=\"text-align: right;\">\n",
       "      <th></th>\n",
       "      <th>Asset_ID</th>\n",
       "      <th>Weight</th>\n",
       "      <th>Asset_Name</th>\n",
       "    </tr>\n",
       "  </thead>\n",
       "  <tbody>\n",
       "    <tr>\n",
       "      <th>0</th>\n",
       "      <td>2</td>\n",
       "      <td>2.397895</td>\n",
       "      <td>Bitcoin Cash</td>\n",
       "    </tr>\n",
       "    <tr>\n",
       "      <th>1</th>\n",
       "      <td>0</td>\n",
       "      <td>4.304065</td>\n",
       "      <td>Binance Coin</td>\n",
       "    </tr>\n",
       "    <tr>\n",
       "      <th>2</th>\n",
       "      <td>1</td>\n",
       "      <td>6.779922</td>\n",
       "      <td>Bitcoin</td>\n",
       "    </tr>\n",
       "    <tr>\n",
       "      <th>3</th>\n",
       "      <td>5</td>\n",
       "      <td>1.386294</td>\n",
       "      <td>EOS.IO</td>\n",
       "    </tr>\n",
       "    <tr>\n",
       "      <th>4</th>\n",
       "      <td>7</td>\n",
       "      <td>2.079442</td>\n",
       "      <td>Ethereum Classic</td>\n",
       "    </tr>\n",
       "    <tr>\n",
       "      <th>5</th>\n",
       "      <td>6</td>\n",
       "      <td>5.894403</td>\n",
       "      <td>Ethereum</td>\n",
       "    </tr>\n",
       "    <tr>\n",
       "      <th>6</th>\n",
       "      <td>9</td>\n",
       "      <td>2.397895</td>\n",
       "      <td>Litecoin</td>\n",
       "    </tr>\n",
       "    <tr>\n",
       "      <th>7</th>\n",
       "      <td>11</td>\n",
       "      <td>1.609438</td>\n",
       "      <td>Monero</td>\n",
       "    </tr>\n",
       "    <tr>\n",
       "      <th>8</th>\n",
       "      <td>13</td>\n",
       "      <td>1.791759</td>\n",
       "      <td>TRON</td>\n",
       "    </tr>\n",
       "    <tr>\n",
       "      <th>9</th>\n",
       "      <td>12</td>\n",
       "      <td>2.079442</td>\n",
       "      <td>Stellar</td>\n",
       "    </tr>\n",
       "    <tr>\n",
       "      <th>10</th>\n",
       "      <td>3</td>\n",
       "      <td>4.406719</td>\n",
       "      <td>Cardano</td>\n",
       "    </tr>\n",
       "    <tr>\n",
       "      <th>11</th>\n",
       "      <td>8</td>\n",
       "      <td>1.098612</td>\n",
       "      <td>IOTA</td>\n",
       "    </tr>\n",
       "    <tr>\n",
       "      <th>12</th>\n",
       "      <td>10</td>\n",
       "      <td>1.098612</td>\n",
       "      <td>Maker</td>\n",
       "    </tr>\n",
       "    <tr>\n",
       "      <th>13</th>\n",
       "      <td>4</td>\n",
       "      <td>3.555348</td>\n",
       "      <td>Dogecoin</td>\n",
       "    </tr>\n",
       "  </tbody>\n",
       "</table>\n",
       "</div>"
      ],
      "text/plain": [
       "    Asset_ID    Weight        Asset_Name\n",
       "0          2  2.397895      Bitcoin Cash\n",
       "1          0  4.304065      Binance Coin\n",
       "2          1  6.779922           Bitcoin\n",
       "3          5  1.386294            EOS.IO\n",
       "4          7  2.079442  Ethereum Classic\n",
       "5          6  5.894403          Ethereum\n",
       "6          9  2.397895          Litecoin\n",
       "7         11  1.609438            Monero\n",
       "8         13  1.791759              TRON\n",
       "9         12  2.079442           Stellar\n",
       "10         3  4.406719           Cardano\n",
       "11         8  1.098612              IOTA\n",
       "12        10  1.098612             Maker\n",
       "13         4  3.555348          Dogecoin"
      ]
     },
     "execution_count": 5,
     "metadata": {},
     "output_type": "execute_result"
    }
   ],
   "source": [
    "asset_details"
   ]
  },
  {
   "cell_type": "code",
   "execution_count": 6,
   "id": "9942e1d2",
   "metadata": {
    "execution": {
     "iopub.execute_input": "2022-04-04T20:11:39.777829Z",
     "iopub.status.busy": "2022-04-04T20:11:39.776692Z",
     "iopub.status.idle": "2022-04-04T20:11:40.233354Z",
     "shell.execute_reply": "2022-04-04T20:11:40.232612Z",
     "shell.execute_reply.started": "2022-04-01T18:51:34.873925Z"
    },
    "papermill": {
     "duration": 0.509042,
     "end_time": "2022-04-04T20:11:40.233538",
     "exception": false,
     "start_time": "2022-04-04T20:11:39.724496",
     "status": "completed"
    },
    "tags": []
   },
   "outputs": [
    {
     "name": "stdout",
     "output_type": "stream",
     "text": [
      "<class 'pandas.core.frame.DataFrame'>\n",
      "Int64Index: 1956200 entries, 5 to 24236799\n",
      "Data columns (total 10 columns):\n",
      " #   Column     Non-Null Count    Dtype  \n",
      "---  ------     --------------    -----  \n",
      " 0   timestamp  1956200 non-null  int64  \n",
      " 1   Asset_ID   1956200 non-null  int64  \n",
      " 2   Count      1956200 non-null  float64\n",
      " 3   Open       1956200 non-null  float64\n",
      " 4   High       1956200 non-null  float64\n",
      " 5   Low        1956200 non-null  float64\n",
      " 6   Close      1956200 non-null  float64\n",
      " 7   Volume     1956200 non-null  float64\n",
      " 8   VWAP       1956200 non-null  float64\n",
      " 9   Target     1955860 non-null  float64\n",
      "dtypes: float64(8), int64(2)\n",
      "memory usage: 164.2 MB\n"
     ]
    }
   ],
   "source": [
    "# Select Asset_ID = 6 for Ethereum\n",
    "crypto_df = crypto_df[crypto_df[\"Asset_ID\"]==6] \n",
    "crypto_df.info(show_counts =True)"
   ]
  },
  {
   "cell_type": "markdown",
   "id": "62efcb62",
   "metadata": {
    "papermill": {
     "duration": 0.040147,
     "end_time": "2022-04-04T20:11:40.313898",
     "exception": false,
     "start_time": "2022-04-04T20:11:40.273751",
     "status": "completed"
    },
    "tags": []
   },
   "source": [
    "### Preprocess data"
   ]
  },
  {
   "cell_type": "code",
   "execution_count": 7,
   "id": "bbbcff5e",
   "metadata": {
    "execution": {
     "iopub.execute_input": "2022-04-04T20:11:40.399108Z",
     "iopub.status.busy": "2022-04-04T20:11:40.398400Z",
     "iopub.status.idle": "2022-04-04T20:11:40.459534Z",
     "shell.execute_reply": "2022-04-04T20:11:40.458894Z",
     "shell.execute_reply.started": "2022-04-01T18:51:35.278094Z"
    },
    "papermill": {
     "duration": 0.106049,
     "end_time": "2022-04-04T20:11:40.459677",
     "exception": false,
     "start_time": "2022-04-04T20:11:40.353628",
     "status": "completed"
    },
    "tags": []
   },
   "outputs": [],
   "source": [
    "df = crypto_df.copy()"
   ]
  },
  {
   "cell_type": "code",
   "execution_count": 8,
   "id": "ecff0f89",
   "metadata": {
    "execution": {
     "iopub.execute_input": "2022-04-04T20:11:40.544357Z",
     "iopub.status.busy": "2022-04-04T20:11:40.543549Z",
     "iopub.status.idle": "2022-04-04T20:11:40.976724Z",
     "shell.execute_reply": "2022-04-04T20:11:40.978200Z",
     "shell.execute_reply.started": "2022-04-01T18:51:35.342544Z"
    },
    "papermill": {
     "duration": 0.479009,
     "end_time": "2022-04-04T20:11:40.978481",
     "exception": false,
     "start_time": "2022-04-04T20:11:40.499472",
     "status": "completed"
    },
    "tags": []
   },
   "outputs": [],
   "source": [
    "# fill missing values \n",
    "df = df.reindex(range(df.index[0],df.index[-1]+60,60),method='pad')\n",
    "df = df.fillna(0)"
   ]
  },
  {
   "cell_type": "code",
   "execution_count": 9,
   "id": "bd25a2c6",
   "metadata": {
    "execution": {
     "iopub.execute_input": "2022-04-04T20:11:41.135907Z",
     "iopub.status.busy": "2022-04-04T20:11:41.134924Z",
     "iopub.status.idle": "2022-04-04T20:11:41.140534Z",
     "shell.execute_reply": "2022-04-04T20:11:41.141259Z",
     "shell.execute_reply.started": "2022-04-01T18:51:35.580259Z"
    },
    "papermill": {
     "duration": 0.082006,
     "end_time": "2022-04-04T20:11:41.141471",
     "exception": false,
     "start_time": "2022-04-04T20:11:41.059465",
     "status": "completed"
    },
    "tags": []
   },
   "outputs": [],
   "source": [
    "# rename column timestamp to Date \n",
    "df.rename({'timestamp': 'Date'}, axis=1, inplace=True)\n",
    "\n",
    "# rename Close to Price\n",
    "df.rename(columns={'Close': 'Price'}, inplace=True)"
   ]
  },
  {
   "cell_type": "code",
   "execution_count": 10,
   "id": "052e1a5d",
   "metadata": {
    "execution": {
     "iopub.execute_input": "2022-04-04T20:11:41.282969Z",
     "iopub.status.busy": "2022-04-04T20:11:41.282046Z",
     "iopub.status.idle": "2022-04-04T20:11:43.136447Z",
     "shell.execute_reply": "2022-04-04T20:11:43.135808Z",
     "shell.execute_reply.started": "2022-04-01T18:51:35.587604Z"
    },
    "papermill": {
     "duration": 1.927413,
     "end_time": "2022-04-04T20:11:43.136620",
     "exception": false,
     "start_time": "2022-04-04T20:11:41.209207",
     "status": "completed"
    },
    "tags": []
   },
   "outputs": [],
   "source": [
    "# timestamp conversion\n",
    "df.Date = df.Date.apply(lambda d: datetime.fromtimestamp(int(d)).strftime('%Y-%m-%d'))"
   ]
  },
  {
   "cell_type": "code",
   "execution_count": 11,
   "id": "9868a7c8",
   "metadata": {
    "execution": {
     "iopub.execute_input": "2022-04-04T20:11:43.224269Z",
     "iopub.status.busy": "2022-04-04T20:11:43.221806Z",
     "iopub.status.idle": "2022-04-04T20:11:43.224947Z",
     "shell.execute_reply": "2022-04-04T20:11:43.225499Z",
     "shell.execute_reply.started": "2022-04-01T18:51:37.142979Z"
    },
    "papermill": {
     "duration": 0.048814,
     "end_time": "2022-04-04T20:11:43.225649",
     "exception": false,
     "start_time": "2022-04-04T20:11:43.176835",
     "status": "completed"
    },
    "tags": []
   },
   "outputs": [],
   "source": [
    "# set index\n",
    "df.set_index('Date', inplace=True)"
   ]
  },
  {
   "cell_type": "code",
   "execution_count": 12,
   "id": "e4b703d5",
   "metadata": {
    "execution": {
     "iopub.execute_input": "2022-04-04T20:11:43.313908Z",
     "iopub.status.busy": "2022-04-04T20:11:43.312919Z",
     "iopub.status.idle": "2022-04-04T20:11:43.323782Z",
     "shell.execute_reply": "2022-04-04T20:11:43.323234Z",
     "shell.execute_reply.started": "2022-04-01T18:51:37.150937Z"
    },
    "papermill": {
     "duration": 0.058974,
     "end_time": "2022-04-04T20:11:43.323908",
     "exception": false,
     "start_time": "2022-04-04T20:11:43.264934",
     "status": "completed"
    },
    "tags": []
   },
   "outputs": [
    {
     "data": {
      "text/html": [
       "<div>\n",
       "<style scoped>\n",
       "    .dataframe tbody tr th:only-of-type {\n",
       "        vertical-align: middle;\n",
       "    }\n",
       "\n",
       "    .dataframe tbody tr th {\n",
       "        vertical-align: top;\n",
       "    }\n",
       "\n",
       "    .dataframe thead th {\n",
       "        text-align: right;\n",
       "    }\n",
       "</style>\n",
       "<table border=\"1\" class=\"dataframe\">\n",
       "  <thead>\n",
       "    <tr style=\"text-align: right;\">\n",
       "      <th></th>\n",
       "      <th>Asset_ID</th>\n",
       "      <th>Count</th>\n",
       "      <th>Open</th>\n",
       "      <th>High</th>\n",
       "      <th>Low</th>\n",
       "      <th>Price</th>\n",
       "      <th>Volume</th>\n",
       "      <th>VWAP</th>\n",
       "      <th>Target</th>\n",
       "    </tr>\n",
       "    <tr>\n",
       "      <th>Date</th>\n",
       "      <th></th>\n",
       "      <th></th>\n",
       "      <th></th>\n",
       "      <th></th>\n",
       "      <th></th>\n",
       "      <th></th>\n",
       "      <th></th>\n",
       "      <th></th>\n",
       "      <th></th>\n",
       "    </tr>\n",
       "  </thead>\n",
       "  <tbody>\n",
       "    <tr>\n",
       "      <th>2018-01-01</th>\n",
       "      <td>6</td>\n",
       "      <td>173.0</td>\n",
       "      <td>738.3025</td>\n",
       "      <td>746.00</td>\n",
       "      <td>732.51</td>\n",
       "      <td>738.5075</td>\n",
       "      <td>335.987856</td>\n",
       "      <td>738.839291</td>\n",
       "      <td>-0.004809</td>\n",
       "    </tr>\n",
       "    <tr>\n",
       "      <th>2018-01-01</th>\n",
       "      <td>6</td>\n",
       "      <td>111.0</td>\n",
       "      <td>734.2300</td>\n",
       "      <td>744.03</td>\n",
       "      <td>724.43</td>\n",
       "      <td>735.0900</td>\n",
       "      <td>125.164340</td>\n",
       "      <td>734.399631</td>\n",
       "      <td>-0.004800</td>\n",
       "    </tr>\n",
       "    <tr>\n",
       "      <th>2018-01-01</th>\n",
       "      <td>6</td>\n",
       "      <td>97.0</td>\n",
       "      <td>735.1225</td>\n",
       "      <td>744.30</td>\n",
       "      <td>725.32</td>\n",
       "      <td>734.8025</td>\n",
       "      <td>104.518346</td>\n",
       "      <td>735.085802</td>\n",
       "      <td>-0.001759</td>\n",
       "    </tr>\n",
       "    <tr>\n",
       "      <th>2018-01-01</th>\n",
       "      <td>6</td>\n",
       "      <td>247.0</td>\n",
       "      <td>732.6000</td>\n",
       "      <td>741.48</td>\n",
       "      <td>722.91</td>\n",
       "      <td>731.8200</td>\n",
       "      <td>465.550694</td>\n",
       "      <td>731.937561</td>\n",
       "      <td>0.000960</td>\n",
       "    </tr>\n",
       "    <tr>\n",
       "      <th>2018-01-01</th>\n",
       "      <td>6</td>\n",
       "      <td>92.0</td>\n",
       "      <td>732.7950</td>\n",
       "      <td>739.47</td>\n",
       "      <td>724.44</td>\n",
       "      <td>732.9325</td>\n",
       "      <td>43.809790</td>\n",
       "      <td>732.882372</td>\n",
       "      <td>-0.002175</td>\n",
       "    </tr>\n",
       "  </tbody>\n",
       "</table>\n",
       "</div>"
      ],
      "text/plain": [
       "            Asset_ID  Count      Open    High     Low     Price      Volume  \\\n",
       "Date                                                                          \n",
       "2018-01-01         6  173.0  738.3025  746.00  732.51  738.5075  335.987856   \n",
       "2018-01-01         6  111.0  734.2300  744.03  724.43  735.0900  125.164340   \n",
       "2018-01-01         6   97.0  735.1225  744.30  725.32  734.8025  104.518346   \n",
       "2018-01-01         6  247.0  732.6000  741.48  722.91  731.8200  465.550694   \n",
       "2018-01-01         6   92.0  732.7950  739.47  724.44  732.9325   43.809790   \n",
       "\n",
       "                  VWAP    Target  \n",
       "Date                              \n",
       "2018-01-01  738.839291 -0.004809  \n",
       "2018-01-01  734.399631 -0.004800  \n",
       "2018-01-01  735.085802 -0.001759  \n",
       "2018-01-01  731.937561  0.000960  \n",
       "2018-01-01  732.882372 -0.002175  "
      ]
     },
     "execution_count": 12,
     "metadata": {},
     "output_type": "execute_result"
    }
   ],
   "source": [
    "df.head()"
   ]
  },
  {
   "cell_type": "code",
   "execution_count": 13,
   "id": "a260349b",
   "metadata": {
    "execution": {
     "iopub.execute_input": "2022-04-04T20:11:43.408423Z",
     "iopub.status.busy": "2022-04-04T20:11:43.407377Z",
     "iopub.status.idle": "2022-04-04T20:11:43.416111Z",
     "shell.execute_reply": "2022-04-04T20:11:43.415605Z",
     "shell.execute_reply.started": "2022-04-01T18:51:37.171865Z"
    },
    "papermill": {
     "duration": 0.052132,
     "end_time": "2022-04-04T20:11:43.416241",
     "exception": false,
     "start_time": "2022-04-04T20:11:43.364109",
     "status": "completed"
    },
    "tags": []
   },
   "outputs": [
    {
     "data": {
      "text/plain": [
       "(array(['2018-01-01', '2018-01-01', '2018-01-01', '2018-01-01',\n",
       "        '2018-01-01', '2018-01-01', '2018-01-01', '2018-01-01',\n",
       "        '2018-01-01', '2018-01-01'], dtype=object),\n",
       " array([738.5075, 735.09  , 734.8025, 731.82  , 732.9325, 732.3425,\n",
       "        731.8225, 732.1325, 732.605 , 729.415 ]))"
      ]
     },
     "execution_count": 13,
     "metadata": {},
     "output_type": "execute_result"
    }
   ],
   "source": [
    "# Convert to date array\n",
    "timesteps = df.index.to_numpy()\n",
    "prices = df['Price'].to_numpy()\n",
    "\n",
    "timesteps[:10], prices[:10]"
   ]
  },
  {
   "cell_type": "markdown",
   "id": "73508a13",
   "metadata": {
    "papermill": {
     "duration": 0.040297,
     "end_time": "2022-04-04T20:11:43.497532",
     "exception": false,
     "start_time": "2022-04-04T20:11:43.457235",
     "status": "completed"
    },
    "tags": []
   },
   "source": [
    "### Modeling: Recurrent Neural Network LSTM"
   ]
  },
  {
   "cell_type": "code",
   "execution_count": 14,
   "id": "f5d6ee53",
   "metadata": {
    "execution": {
     "iopub.execute_input": "2022-04-04T20:11:43.582969Z",
     "iopub.status.busy": "2022-04-04T20:11:43.581935Z",
     "iopub.status.idle": "2022-04-04T20:11:43.584594Z",
     "shell.execute_reply": "2022-04-04T20:11:43.585225Z",
     "shell.execute_reply.started": "2022-04-01T18:51:37.18423Z"
    },
    "id": "LibzWQXM2ib-",
    "papermill": {
     "duration": 0.047041,
     "end_time": "2022-04-04T20:11:43.585376",
     "exception": false,
     "start_time": "2022-04-04T20:11:43.538335",
     "status": "completed"
    },
    "tags": []
   },
   "outputs": [],
   "source": [
    "HORIZON = 1 \n",
    "WINDOW_SIZE = 7"
   ]
  },
  {
   "cell_type": "code",
   "execution_count": 15,
   "id": "7e283724",
   "metadata": {
    "execution": {
     "iopub.execute_input": "2022-04-04T20:11:43.671518Z",
     "iopub.status.busy": "2022-04-04T20:11:43.670487Z",
     "iopub.status.idle": "2022-04-04T20:11:43.673112Z",
     "shell.execute_reply": "2022-04-04T20:11:43.673641Z",
     "shell.execute_reply.started": "2022-04-01T18:51:37.192393Z"
    },
    "id": "zV8pv5K_x81E",
    "papermill": {
     "duration": 0.048793,
     "end_time": "2022-04-04T20:11:43.673854",
     "exception": false,
     "start_time": "2022-04-04T20:11:43.625061",
     "status": "completed"
    },
    "tags": []
   },
   "outputs": [],
   "source": [
    "# Function to create labelled window data\n",
    "def get_labelled_windows(x, horizon=1):\n",
    "  \"\"\"\n",
    "  Creates labels for windowed dataset.\n",
    "  E.g. if horizon=1 (default)\n",
    "  Input: [1, 2, 3, 4, 5, 6] -> Output: ([1, 2, 3, 4, 5], [6])\n",
    "  \"\"\"\n",
    "  return x[:, :-horizon], x[:, -horizon:]"
   ]
  },
  {
   "cell_type": "code",
   "execution_count": 16,
   "id": "cb93dd4e",
   "metadata": {
    "execution": {
     "iopub.execute_input": "2022-04-04T20:11:46.764825Z",
     "iopub.status.busy": "2022-04-04T20:11:46.763236Z",
     "iopub.status.idle": "2022-04-04T20:11:46.795584Z",
     "shell.execute_reply": "2022-04-04T20:11:46.796443Z",
     "shell.execute_reply.started": "2022-04-01T18:51:37.200035Z"
    },
    "id": "ejJ9vCyKff8F",
    "outputId": "805b4459-9f5e-4311-9592-41efefd22546",
    "papermill": {
     "duration": 3.081774,
     "end_time": "2022-04-04T20:11:46.796727",
     "exception": false,
     "start_time": "2022-04-04T20:11:43.714953",
     "status": "completed"
    },
    "tags": []
   },
   "outputs": [
    {
     "name": "stdout",
     "output_type": "stream",
     "text": [
      "Window: [1 2 3 4 5 6 7] -> Label: 8\n"
     ]
    },
    {
     "name": "stderr",
     "output_type": "stream",
     "text": [
      "2022-04-04 20:11:43.822718: I tensorflow/stream_executor/cuda/cuda_gpu_executor.cc:937] successful NUMA node read from SysFS had negative value (-1), but there must be at least one NUMA node, so returning NUMA node zero\n",
      "2022-04-04 20:11:43.941438: I tensorflow/stream_executor/cuda/cuda_gpu_executor.cc:937] successful NUMA node read from SysFS had negative value (-1), but there must be at least one NUMA node, so returning NUMA node zero\n",
      "2022-04-04 20:11:43.942623: I tensorflow/stream_executor/cuda/cuda_gpu_executor.cc:937] successful NUMA node read from SysFS had negative value (-1), but there must be at least one NUMA node, so returning NUMA node zero\n",
      "2022-04-04 20:11:43.946078: I tensorflow/core/platform/cpu_feature_guard.cc:142] This TensorFlow binary is optimized with oneAPI Deep Neural Network Library (oneDNN) to use the following CPU instructions in performance-critical operations:  AVX2 FMA\n",
      "To enable them in other operations, rebuild TensorFlow with the appropriate compiler flags.\n",
      "2022-04-04 20:11:43.947435: I tensorflow/stream_executor/cuda/cuda_gpu_executor.cc:937] successful NUMA node read from SysFS had negative value (-1), but there must be at least one NUMA node, so returning NUMA node zero\n",
      "2022-04-04 20:11:43.948652: I tensorflow/stream_executor/cuda/cuda_gpu_executor.cc:937] successful NUMA node read from SysFS had negative value (-1), but there must be at least one NUMA node, so returning NUMA node zero\n",
      "2022-04-04 20:11:43.949831: I tensorflow/stream_executor/cuda/cuda_gpu_executor.cc:937] successful NUMA node read from SysFS had negative value (-1), but there must be at least one NUMA node, so returning NUMA node zero\n",
      "2022-04-04 20:11:46.417418: I tensorflow/stream_executor/cuda/cuda_gpu_executor.cc:937] successful NUMA node read from SysFS had negative value (-1), but there must be at least one NUMA node, so returning NUMA node zero\n",
      "2022-04-04 20:11:46.418687: I tensorflow/stream_executor/cuda/cuda_gpu_executor.cc:937] successful NUMA node read from SysFS had negative value (-1), but there must be at least one NUMA node, so returning NUMA node zero\n",
      "2022-04-04 20:11:46.419791: I tensorflow/stream_executor/cuda/cuda_gpu_executor.cc:937] successful NUMA node read from SysFS had negative value (-1), but there must be at least one NUMA node, so returning NUMA node zero\n",
      "2022-04-04 20:11:46.420793: I tensorflow/core/common_runtime/gpu/gpu_device.cc:1510] Created device /job:localhost/replica:0/task:0/device:GPU:0 with 15403 MB memory:  -> device: 0, name: Tesla P100-PCIE-16GB, pci bus id: 0000:00:04.0, compute capability: 6.0\n"
     ]
    }
   ],
   "source": [
    "# Test the window labelling function\n",
    "test_window, test_label = get_labelled_windows(tf.expand_dims(tf.range(8)+1, axis=0), horizon=HORIZON)\n",
    "print(f\"Window: {tf.squeeze(test_window).numpy()} -> Label: {tf.squeeze(test_label).numpy()}\")"
   ]
  },
  {
   "cell_type": "code",
   "execution_count": 17,
   "id": "3a6b7b52",
   "metadata": {
    "execution": {
     "iopub.execute_input": "2022-04-04T20:11:46.885998Z",
     "iopub.status.busy": "2022-04-04T20:11:46.884927Z",
     "iopub.status.idle": "2022-04-04T20:11:46.892691Z",
     "shell.execute_reply": "2022-04-04T20:11:46.892140Z",
     "shell.execute_reply.started": "2022-04-01T18:51:37.214079Z"
    },
    "id": "apea0wiJyCI6",
    "papermill": {
     "duration": 0.053144,
     "end_time": "2022-04-04T20:11:46.892827",
     "exception": false,
     "start_time": "2022-04-04T20:11:46.839683",
     "status": "completed"
    },
    "tags": []
   },
   "outputs": [],
   "source": [
    "# Function to view NumPy arrays as windows \n",
    "def make_windows(x, window_size=7, horizon=1):\n",
    "  \"\"\"\n",
    "  Turns a 1D array into a 2D array of sequential windows of window_size.\n",
    "  \"\"\"\n",
    "  window_step = np.expand_dims(np.arange(window_size+horizon), axis=0)\n",
    "  window_indexes = window_step + np.expand_dims(np.arange(len(x)-(window_size+horizon-1)), axis=0).T \n",
    "  windowed_array = x[window_indexes]\n",
    "  windows, labels = get_labelled_windows(windowed_array, horizon=horizon)\n",
    "  return windows, labels"
   ]
  },
  {
   "cell_type": "code",
   "execution_count": 18,
   "id": "b747ae75",
   "metadata": {
    "execution": {
     "iopub.execute_input": "2022-04-04T20:11:46.979658Z",
     "iopub.status.busy": "2022-04-04T20:11:46.976623Z",
     "iopub.status.idle": "2022-04-04T20:11:47.014347Z",
     "shell.execute_reply": "2022-04-04T20:11:47.014847Z",
     "shell.execute_reply.started": "2022-04-01T18:51:37.221749Z"
    },
    "id": "u7Yc3V7fc1UG",
    "outputId": "41dce6b2-d01b-4943-f1c8-a113c256bc2d",
    "papermill": {
     "duration": 0.081343,
     "end_time": "2022-04-04T20:11:47.015079",
     "exception": false,
     "start_time": "2022-04-04T20:11:46.933736",
     "status": "completed"
    },
    "tags": []
   },
   "outputs": [
    {
     "data": {
      "text/plain": [
       "(403941, 403941)"
      ]
     },
     "execution_count": 18,
     "metadata": {},
     "output_type": "execute_result"
    }
   ],
   "source": [
    "full_windows, full_labels = make_windows(prices, window_size=WINDOW_SIZE, horizon=HORIZON)\n",
    "len(full_windows), len(full_labels)"
   ]
  },
  {
   "cell_type": "code",
   "execution_count": 19,
   "id": "fd38121f",
   "metadata": {
    "execution": {
     "iopub.execute_input": "2022-04-04T20:11:47.103916Z",
     "iopub.status.busy": "2022-04-04T20:11:47.102834Z",
     "iopub.status.idle": "2022-04-04T20:11:47.112510Z",
     "shell.execute_reply": "2022-04-04T20:11:47.111481Z",
     "shell.execute_reply.started": "2022-04-01T18:51:37.246218Z"
    },
    "id": "U1P-MT4CkYta",
    "outputId": "a00a6bb8-de3e-4861-84bc-442441b09635",
    "papermill": {
     "duration": 0.055373,
     "end_time": "2022-04-04T20:11:47.112713",
     "exception": false,
     "start_time": "2022-04-04T20:11:47.057340",
     "status": "completed"
    },
    "tags": []
   },
   "outputs": [
    {
     "name": "stdout",
     "output_type": "stream",
     "text": [
      "Window: [738.5075 735.09   734.8025 731.82   732.9325 732.3425 731.8225] -> Label: [732.1325]\n",
      "Window: [735.09   734.8025 731.82   732.9325 732.3425 731.8225 732.1325] -> Label: [732.605]\n",
      "Window: [734.8025 731.82   732.9325 732.3425 731.8225 732.1325 732.605 ] -> Label: [729.415]\n"
     ]
    }
   ],
   "source": [
    "# View the first 3 windows/labels\n",
    "for i in range(3):\n",
    "  print(f\"Window: {full_windows[i]} -> Label: {full_labels[i]}\")"
   ]
  },
  {
   "cell_type": "code",
   "execution_count": 20,
   "id": "509fb06c",
   "metadata": {
    "execution": {
     "iopub.execute_input": "2022-04-04T20:11:47.206812Z",
     "iopub.status.busy": "2022-04-04T20:11:47.205693Z",
     "iopub.status.idle": "2022-04-04T20:11:47.210278Z",
     "shell.execute_reply": "2022-04-04T20:11:47.210856Z",
     "shell.execute_reply.started": "2022-04-01T18:51:37.254966Z"
    },
    "id": "UCDtm6gskjRH",
    "outputId": "0d02d8c6-d0af-45b6-e98f-bbf22172f572",
    "papermill": {
     "duration": 0.054807,
     "end_time": "2022-04-04T20:11:47.211049",
     "exception": false,
     "start_time": "2022-04-04T20:11:47.156242",
     "status": "completed"
    },
    "tags": []
   },
   "outputs": [
    {
     "name": "stdout",
     "output_type": "stream",
     "text": [
      "Window: [2954.52428571 2964.53460045 2950.26285714 2969.77714286 2959.72714286\n",
      " 2955.75428571 2971.90571429] -> Label: [2977.38714286]\n",
      "Window: [2964.53460045 2950.26285714 2969.77714286 2959.72714286 2955.75428571\n",
      " 2971.90571429 2977.38714286] -> Label: [2960.84571429]\n",
      "Window: [2950.26285714 2969.77714286 2959.72714286 2955.75428571 2971.90571429\n",
      " 2977.38714286 2960.84571429] -> Label: [2972.60333333]\n"
     ]
    }
   ],
   "source": [
    "# View the last 3 windows/labels\n",
    "for i in range(3):\n",
    "  print(f\"Window: {full_windows[i-3]} -> Label: {full_labels[i-3]}\")"
   ]
  },
  {
   "cell_type": "code",
   "execution_count": 21,
   "id": "58e92e80",
   "metadata": {
    "execution": {
     "iopub.execute_input": "2022-04-04T20:11:47.303896Z",
     "iopub.status.busy": "2022-04-04T20:11:47.302811Z",
     "iopub.status.idle": "2022-04-04T20:11:47.306348Z",
     "shell.execute_reply": "2022-04-04T20:11:47.305670Z",
     "shell.execute_reply.started": "2022-04-01T18:51:37.26358Z"
    },
    "id": "o_8BRgb8YtP3",
    "papermill": {
     "duration": 0.051725,
     "end_time": "2022-04-04T20:11:47.306528",
     "exception": false,
     "start_time": "2022-04-04T20:11:47.254803",
     "status": "completed"
    },
    "tags": []
   },
   "outputs": [],
   "source": [
    "# Function to create train-test-splits\n",
    "def make_train_test_splits(windows, labels, test_split=0.2):\n",
    "  \"\"\"\n",
    "  Splits matching pairs of windows and labels into train and test splits.\n",
    "  \"\"\"\n",
    "  split_size = int(len(windows) * (1-test_split))\n",
    "  train_windows = windows[:split_size]\n",
    "  train_labels = labels[:split_size]\n",
    "  test_windows = windows[split_size:]\n",
    "  test_labels = labels[split_size:]\n",
    "  return train_windows, test_windows, train_labels, test_labels"
   ]
  },
  {
   "cell_type": "code",
   "execution_count": 22,
   "id": "28d4358b",
   "metadata": {
    "execution": {
     "iopub.execute_input": "2022-04-04T20:11:47.398803Z",
     "iopub.status.busy": "2022-04-04T20:11:47.394587Z",
     "iopub.status.idle": "2022-04-04T20:11:47.403126Z",
     "shell.execute_reply": "2022-04-04T20:11:47.402614Z",
     "shell.execute_reply.started": "2022-04-01T18:51:37.272421Z"
    },
    "id": "z_xY8T7HEaoU",
    "outputId": "d31a4535-f5b7-4ee6-92bd-a056a0101794",
    "papermill": {
     "duration": 0.053738,
     "end_time": "2022-04-04T20:11:47.403310",
     "exception": false,
     "start_time": "2022-04-04T20:11:47.349572",
     "status": "completed"
    },
    "tags": []
   },
   "outputs": [
    {
     "data": {
      "text/plain": [
       "(323152, 80789, 323152, 80789)"
      ]
     },
     "execution_count": 22,
     "metadata": {},
     "output_type": "execute_result"
    }
   ],
   "source": [
    "train_windows, test_windows, train_labels, test_labels = make_train_test_splits(full_windows, full_labels)\n",
    "len(train_windows), len(test_windows), len(train_labels), len(test_labels)"
   ]
  },
  {
   "cell_type": "code",
   "execution_count": 23,
   "id": "1982a388",
   "metadata": {
    "execution": {
     "iopub.execute_input": "2022-04-04T20:11:47.494581Z",
     "iopub.status.busy": "2022-04-04T20:11:47.493758Z",
     "iopub.status.idle": "2022-04-04T20:11:47.497197Z",
     "shell.execute_reply": "2022-04-04T20:11:47.497779Z",
     "shell.execute_reply.started": "2022-04-01T18:51:37.285225Z"
    },
    "id": "DDgyT7Gix1fH",
    "outputId": "ca96d4e6-56f0-4355-d2bb-6ad981fc3dae",
    "papermill": {
     "duration": 0.05271,
     "end_time": "2022-04-04T20:11:47.497918",
     "exception": false,
     "start_time": "2022-04-04T20:11:47.445208",
     "status": "completed"
    },
    "tags": []
   },
   "outputs": [
    {
     "data": {
      "text/plain": [
       "(array([[738.5075, 735.09  , 734.8025, 731.82  , 732.9325, 732.3425,\n",
       "         731.8225],\n",
       "        [735.09  , 734.8025, 731.82  , 732.9325, 732.3425, 731.8225,\n",
       "         732.1325],\n",
       "        [734.8025, 731.82  , 732.9325, 732.3425, 731.8225, 732.1325,\n",
       "         732.605 ],\n",
       "        [731.82  , 732.9325, 732.3425, 731.8225, 732.1325, 732.605 ,\n",
       "         729.415 ],\n",
       "        [732.9325, 732.3425, 731.8225, 732.1325, 732.605 , 729.415 ,\n",
       "         731.32  ]]),\n",
       " array([[732.1325],\n",
       "        [732.605 ],\n",
       "        [729.415 ],\n",
       "        [731.32  ],\n",
       "        [733.5625]]))"
      ]
     },
     "execution_count": 23,
     "metadata": {},
     "output_type": "execute_result"
    }
   ],
   "source": [
    "train_windows[:5], train_labels[:5]"
   ]
  },
  {
   "cell_type": "code",
   "execution_count": 24,
   "id": "295d5e65",
   "metadata": {
    "execution": {
     "iopub.execute_input": "2022-04-04T20:11:47.589447Z",
     "iopub.status.busy": "2022-04-04T20:11:47.588426Z",
     "iopub.status.idle": "2022-04-04T20:11:47.591636Z",
     "shell.execute_reply": "2022-04-04T20:11:47.590934Z",
     "shell.execute_reply.started": "2022-04-01T18:51:37.294641Z"
    },
    "id": "Xh8i1f7rV_P2",
    "papermill": {
     "duration": 0.05112,
     "end_time": "2022-04-04T20:11:47.591757",
     "exception": false,
     "start_time": "2022-04-04T20:11:47.540637",
     "status": "completed"
    },
    "tags": []
   },
   "outputs": [],
   "source": [
    "import os\n",
    "\n",
    "# Function to implement a ModelCheckpoint callback with a specific filename \n",
    "def create_model_checkpoint(model_name, save_path=\"model_experiments\"):\n",
    "  return tf.keras.callbacks.ModelCheckpoint(filepath=os.path.join(save_path, model_name), \n",
    "                                            verbose=0, \n",
    "                                            save_best_only=True)"
   ]
  },
  {
   "cell_type": "code",
   "execution_count": 25,
   "id": "fa231a83",
   "metadata": {
    "execution": {
     "iopub.execute_input": "2022-04-04T20:11:47.683586Z",
     "iopub.status.busy": "2022-04-04T20:11:47.682938Z",
     "iopub.status.idle": "2022-04-04T20:40:11.147705Z",
     "shell.execute_reply": "2022-04-04T20:40:11.148293Z",
     "shell.execute_reply.started": "2022-04-01T18:51:37.304396Z"
    },
    "id": "a6YFL_b-rZrt",
    "outputId": "96a90e42-069a-459a-b140-6191cab11eb1",
    "papermill": {
     "duration": 1703.514827,
     "end_time": "2022-04-04T20:40:11.148594",
     "exception": false,
     "start_time": "2022-04-04T20:11:47.633767",
     "status": "completed"
    },
    "tags": []
   },
   "outputs": [
    {
     "name": "stderr",
     "output_type": "stream",
     "text": [
      "2022-04-04 20:11:47.945806: I tensorflow/compiler/mlir/mlir_graph_optimization_pass.cc:185] None of the MLIR Optimization Passes are enabled (registered 2)\n",
      "2022-04-04 20:12:08.627427: W tensorflow/python/util/util.cc:348] Sets are not currently considered sequences, but this may change in the future, so consider avoiding using them.\n"
     ]
    },
    {
     "data": {
      "text/plain": [
       "<keras.callbacks.History at 0x7efe80b86950>"
      ]
     },
     "execution_count": 25,
     "metadata": {},
     "output_type": "execute_result"
    }
   ],
   "source": [
    "tf.random.set_seed(42)\n",
    "\n",
    "# LSTM model with the Functional API\n",
    "inputs = layers.Input(shape=(WINDOW_SIZE))\n",
    "x = layers.Lambda(lambda x: tf.expand_dims(x, axis=1))(inputs) \n",
    "x = layers.LSTM(128, activation=\"relu\")(x)\n",
    "output = layers.Dense(HORIZON)(x)\n",
    "lstm_model = tf.keras.Model(inputs=inputs, outputs=output, name=\"model_5_lstm\")\n",
    "\n",
    "# Compile model\n",
    "lstm_model.compile(loss=\"mae\",\n",
    "                optimizer=tf.keras.optimizers.Adam())\n",
    "\n",
    "# Fit the model\n",
    "lstm_model.fit(train_windows,\n",
    "            train_labels,\n",
    "            epochs=100,\n",
    "            verbose=0,\n",
    "            batch_size=128,\n",
    "            validation_data=(test_windows, test_labels),\n",
    "            callbacks=[create_model_checkpoint(model_name=lstm_model.name)])"
   ]
  },
  {
   "cell_type": "code",
   "execution_count": 26,
   "id": "9acbde39",
   "metadata": {
    "execution": {
     "iopub.execute_input": "2022-04-04T20:40:11.243586Z",
     "iopub.status.busy": "2022-04-04T20:40:11.241066Z",
     "iopub.status.idle": "2022-04-04T20:40:22.561173Z",
     "shell.execute_reply": "2022-04-04T20:40:22.560486Z",
     "shell.execute_reply.started": "2022-04-01T19:16:47.074436Z"
    },
    "id": "cOpHqmEtSsNw",
    "outputId": "8071fad7-885c-40d6-a601-0dd333aab6e1",
    "papermill": {
     "duration": 11.368403,
     "end_time": "2022-04-04T20:40:22.561345",
     "exception": false,
     "start_time": "2022-04-04T20:40:11.192942",
     "status": "completed"
    },
    "tags": []
   },
   "outputs": [
    {
     "name": "stdout",
     "output_type": "stream",
     "text": [
      "2525/2525 [==============================] - 6s 2ms/step - loss: 5.3629\n"
     ]
    },
    {
     "data": {
      "text/plain": [
       "5.362868309020996"
      ]
     },
     "execution_count": 26,
     "metadata": {},
     "output_type": "execute_result"
    }
   ],
   "source": [
    "# Load in best version of the LSTM model\n",
    "lstm_model = tf.keras.models.load_model(\"model_experiments/model_5_lstm/\")\n",
    "lstm_model.evaluate(test_windows, test_labels)"
   ]
  },
  {
   "cell_type": "code",
   "execution_count": 27,
   "id": "19caabfa",
   "metadata": {
    "execution": {
     "iopub.execute_input": "2022-04-04T20:40:22.795139Z",
     "iopub.status.busy": "2022-04-04T20:40:22.794069Z",
     "iopub.status.idle": "2022-04-04T20:40:22.796190Z",
     "shell.execute_reply": "2022-04-04T20:40:22.796699Z",
     "shell.execute_reply.started": "2022-04-01T19:17:00.258801Z"
    },
    "id": "hZrExWzyh3ur",
    "papermill": {
     "duration": 0.144323,
     "end_time": "2022-04-04T20:40:22.796886",
     "exception": false,
     "start_time": "2022-04-04T20:40:22.652563",
     "status": "completed"
    },
    "tags": []
   },
   "outputs": [],
   "source": [
    "def make_preds(model, input_data):\n",
    "  \"\"\"\n",
    "  Uses model to make predictions on input_data.\n",
    "\n",
    "  Parameters\n",
    "  ----------\n",
    "  model: trained model \n",
    "  input_data: windowed input data (same kind of data model was trained on)\n",
    "\n",
    "  Returns model predictions on input_data.\n",
    "  \"\"\"\n",
    "  forecast = model.predict(input_data)\n",
    "  return tf.squeeze(forecast)"
   ]
  },
  {
   "cell_type": "code",
   "execution_count": 28,
   "id": "9b09a49d",
   "metadata": {
    "execution": {
     "iopub.execute_input": "2022-04-04T20:40:22.982853Z",
     "iopub.status.busy": "2022-04-04T20:40:22.981807Z",
     "iopub.status.idle": "2022-04-04T20:40:26.414761Z",
     "shell.execute_reply": "2022-04-04T20:40:26.414244Z",
     "shell.execute_reply.started": "2022-04-01T19:17:05.912176Z"
    },
    "id": "yfG11v_51UWa",
    "outputId": "764915f3-48c2-4e64-b8a3-42867ea9eb0b",
    "papermill": {
     "duration": 3.527702,
     "end_time": "2022-04-04T20:40:26.414900",
     "exception": false,
     "start_time": "2022-04-04T20:40:22.887198",
     "status": "completed"
    },
    "tags": []
   },
   "outputs": [
    {
     "data": {
      "text/plain": [
       "<tf.Tensor: shape=(10,), dtype=float32, numpy=\n",
       "array([1225.3235, 1231.047 , 1229.1779, 1228.4127, 1227.364 , 1227.7112,\n",
       "       1228.0785, 1221.424 , 1225.6498, 1227.5392], dtype=float32)>"
      ]
     },
     "execution_count": 28,
     "metadata": {},
     "output_type": "execute_result"
    }
   ],
   "source": [
    "# Make predictions with our LSTM model\n",
    "model_lstm_preds = make_preds(lstm_model, test_windows)\n",
    "model_lstm_preds[:10]"
   ]
  },
  {
   "cell_type": "markdown",
   "id": "9b1a49a9",
   "metadata": {
    "execution": {
     "iopub.execute_input": "2022-04-01T18:31:36.115894Z",
     "iopub.status.busy": "2022-04-01T18:31:36.115551Z",
     "iopub.status.idle": "2022-04-01T18:31:36.122052Z",
     "shell.execute_reply": "2022-04-01T18:31:36.121381Z",
     "shell.execute_reply.started": "2022-04-01T18:31:36.115813Z"
    },
    "papermill": {
     "duration": 0.090572,
     "end_time": "2022-04-04T20:40:26.594629",
     "exception": false,
     "start_time": "2022-04-04T20:40:26.504057",
     "status": "completed"
    },
    "tags": []
   },
   "source": [
    "### Model Evaluation"
   ]
  },
  {
   "cell_type": "code",
   "execution_count": 29,
   "id": "6675f35d",
   "metadata": {
    "execution": {
     "iopub.execute_input": "2022-04-04T20:40:26.784683Z",
     "iopub.status.busy": "2022-04-04T20:40:26.783673Z",
     "iopub.status.idle": "2022-04-04T20:40:26.786825Z",
     "shell.execute_reply": "2022-04-04T20:40:26.786244Z",
     "shell.execute_reply.started": "2022-04-01T19:18:04.432536Z"
    },
    "id": "MwMeVgRXWaJp",
    "papermill": {
     "duration": 0.099557,
     "end_time": "2022-04-04T20:40:26.786964",
     "exception": false,
     "start_time": "2022-04-04T20:40:26.687407",
     "status": "completed"
    },
    "tags": []
   },
   "outputs": [],
   "source": [
    "def evaluate_preds(y_true, y_pred):\n",
    "  # Make sure float32 (for metric calculations)\n",
    "  y_true = tf.cast(y_true, dtype=tf.float32)\n",
    "  y_pred = tf.cast(y_pred, dtype=tf.float32)\n",
    "\n",
    "  # Calculate various metrics\n",
    "  mae = tf.keras.metrics.mean_absolute_error(y_true, y_pred)\n",
    "  mse = tf.keras.metrics.mean_squared_error(y_true, y_pred) \n",
    "  rmse = tf.sqrt(mse)\n",
    "  mape = tf.keras.metrics.mean_absolute_percentage_error(y_true, y_pred)\n",
    "  \n",
    "  return {\"mae\": mae.numpy(),\n",
    "          \"mse\": mse.numpy(),\n",
    "          \"rmse\": rmse.numpy(),\n",
    "          \"mape\": mape.numpy()}"
   ]
  },
  {
   "cell_type": "code",
   "execution_count": 30,
   "id": "6cf9212e",
   "metadata": {
    "execution": {
     "iopub.execute_input": "2022-04-04T20:40:26.970954Z",
     "iopub.status.busy": "2022-04-04T20:40:26.970300Z",
     "iopub.status.idle": "2022-04-04T20:40:26.989673Z",
     "shell.execute_reply": "2022-04-04T20:40:26.989164Z",
     "shell.execute_reply.started": "2022-04-01T19:18:08.929403Z"
    },
    "id": "sVv5Kg5N1axK",
    "outputId": "ef27748e-7980-4e94-af5a-b9f89840840a",
    "papermill": {
     "duration": 0.113005,
     "end_time": "2022-04-04T20:40:26.989841",
     "exception": false,
     "start_time": "2022-04-04T20:40:26.876836",
     "status": "completed"
    },
    "tags": []
   },
   "outputs": [
    {
     "data": {
      "text/plain": [
       "{'mae': 5.3628664, 'mse': 78.63567, 'rmse': 8.867676, 'mape': 0.22386688}"
      ]
     },
     "execution_count": 30,
     "metadata": {},
     "output_type": "execute_result"
    }
   ],
   "source": [
    "# Evaluate LSTM model\n",
    "model_lstm_results = evaluate_preds(y_true=tf.squeeze(test_labels),\n",
    "                                 y_pred=model_lstm_preds)\n",
    "model_lstm_results"
   ]
  },
  {
   "cell_type": "code",
   "execution_count": null,
   "id": "d205afc2",
   "metadata": {
    "papermill": {
     "duration": 0.089266,
     "end_time": "2022-04-04T20:40:27.170459",
     "exception": false,
     "start_time": "2022-04-04T20:40:27.081193",
     "status": "completed"
    },
    "tags": []
   },
   "outputs": [],
   "source": []
  }
 ],
 "metadata": {
  "kernelspec": {
   "display_name": "Python 3",
   "language": "python",
   "name": "python3"
  },
  "language_info": {
   "codemirror_mode": {
    "name": "ipython",
    "version": 3
   },
   "file_extension": ".py",
   "mimetype": "text/x-python",
   "name": "python",
   "nbconvert_exporter": "python",
   "pygments_lexer": "ipython3",
   "version": "3.7.12"
  },
  "papermill": {
   "default_parameters": {},
   "duration": 1805.463343,
   "end_time": "2022-04-04T20:40:30.249664",
   "environment_variables": {},
   "exception": null,
   "input_path": "__notebook__.ipynb",
   "output_path": "__notebook__.ipynb",
   "parameters": {},
   "start_time": "2022-04-04T20:10:24.786321",
   "version": "2.3.3"
  }
 },
 "nbformat": 4,
 "nbformat_minor": 5
}
